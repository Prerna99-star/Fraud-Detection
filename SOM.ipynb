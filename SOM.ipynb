{
  "nbformat": 4,
  "nbformat_minor": 0,
  "metadata": {
    "colab": {
      "name": "SOM.ipynb",
      "provenance": [],
      "authorship_tag": "ABX9TyPZElIV8lbds2B4YbH8ILa3",
      "include_colab_link": true
    },
    "kernelspec": {
      "name": "python3",
      "display_name": "Python 3"
    }
  },
  "cells": [
    {
      "cell_type": "markdown",
      "metadata": {
        "id": "view-in-github",
        "colab_type": "text"
      },
      "source": [
        "<a href=\"https://colab.research.google.com/github/Prerna99-star/Fraud-Detection/blob/master/SOM.ipynb\" target=\"_parent\"><img src=\"https://colab.research.google.com/assets/colab-badge.svg\" alt=\"Open In Colab\"/></a>"
      ]
    },
    {
      "cell_type": "code",
      "metadata": {
        "id": "Fl-QW_s8pgKz",
        "colab_type": "code",
        "colab": {
          "base_uri": "https://localhost:8080/",
          "height": 190
        },
        "outputId": "8fda68b1-31b8-4da4-b8b6-8050e316d55a"
      },
      "source": [
        "!pip install MiniSom"
      ],
      "execution_count": 1,
      "outputs": [
        {
          "output_type": "stream",
          "text": [
            "Collecting MiniSom\n",
            "  Downloading https://files.pythonhosted.org/packages/10/17/88e894b68c062f6917e77a657927c9199b63d24ebbd0c34682816d3c770d/MiniSom-2.2.5.tar.gz\n",
            "Building wheels for collected packages: MiniSom\n",
            "  Building wheel for MiniSom (setup.py) ... \u001b[?25l\u001b[?25hdone\n",
            "  Created wheel for MiniSom: filename=MiniSom-2.2.5-cp36-none-any.whl size=8474 sha256=4069a23a62ca63934a9dc1fcb7d5b7a969443b9f5885fdd9ae05282bfc208a5c\n",
            "  Stored in directory: /root/.cache/pip/wheels/39/5b/16/cc9402ffc58cafb1da6997e5c94b1bde65e8cb214907879fd4\n",
            "Successfully built MiniSom\n",
            "Installing collected packages: MiniSom\n",
            "Successfully installed MiniSom-2.2.5\n"
          ],
          "name": "stdout"
        }
      ]
    },
    {
      "cell_type": "code",
      "metadata": {
        "id": "-X6wTYzGp9Us",
        "colab_type": "code",
        "colab": {}
      },
      "source": [
        "import numpy as np\n",
        "import pandas as pd\n",
        "import matplotlib.pyplot as plt"
      ],
      "execution_count": 0,
      "outputs": []
    },
    {
      "cell_type": "markdown",
      "metadata": {
        "id": "3JkgBESJqVys",
        "colab_type": "text"
      },
      "source": [
        "Importing datasets"
      ]
    },
    {
      "cell_type": "code",
      "metadata": {
        "id": "R3qO-vwJqVKn",
        "colab_type": "code",
        "colab": {
          "base_uri": "https://localhost:8080/",
          "height": 238
        },
        "outputId": "de4d51d3-f8b5-4d14-82fe-b800a2ab1fec"
      },
      "source": [
        "dataset = pd.read_csv(\"Credit_Card_Applications.csv\")\n",
        "X = dataset.iloc[: , :-1].values\n",
        "y = dataset.iloc[: , -1].values\n",
        "print(X)"
      ],
      "execution_count": 4,
      "outputs": [
        {
          "output_type": "stream",
          "text": [
            "[[1.5776156e+07 1.0000000e+00 2.2080000e+01 ... 2.0000000e+00\n",
            "  1.0000000e+02 1.2130000e+03]\n",
            " [1.5739548e+07 0.0000000e+00 2.2670000e+01 ... 2.0000000e+00\n",
            "  1.6000000e+02 1.0000000e+00]\n",
            " [1.5662854e+07 0.0000000e+00 2.9580000e+01 ... 2.0000000e+00\n",
            "  2.8000000e+02 1.0000000e+00]\n",
            " ...\n",
            " [1.5675450e+07 0.0000000e+00 1.8830000e+01 ... 2.0000000e+00\n",
            "  1.0000000e+02 1.0000000e+00]\n",
            " [1.5776494e+07 0.0000000e+00 2.7420000e+01 ... 2.0000000e+00\n",
            "  1.2000000e+02 1.2000000e+01]\n",
            " [1.5592412e+07 1.0000000e+00 4.1000000e+01 ... 1.0000000e+00\n",
            "  5.6000000e+02 1.0000000e+00]]\n"
          ],
          "name": "stdout"
        }
      ]
    },
    {
      "cell_type": "code",
      "metadata": {
        "id": "kOPSvSacsWoX",
        "colab_type": "code",
        "colab": {
          "base_uri": "https://localhost:8080/",
          "height": 340
        },
        "outputId": "125da43d-56dd-4a78-a171-d48a6b800d71"
      },
      "source": [
        "print(y)"
      ],
      "execution_count": 5,
      "outputs": [
        {
          "output_type": "stream",
          "text": [
            "[0 0 0 1 1 1 0 1 0 0 1 1 0 1 0 1 1 1 0 1 0 0 0 0 0 1 0 1 1 1 1 0 0 1 0 0 1\n",
            " 1 1 1 1 0 1 0 0 1 0 1 0 1 0 0 0 0 0 1 1 0 1 1 0 0 1 0 1 1 0 0 0 1 0 0 0 1\n",
            " 1 0 0 0 0 1 1 0 0 0 0 1 0 1 1 0 0 0 0 1 0 1 0 0 0 1 0 1 1 1 0 1 1 0 1 0 0\n",
            " 0 0 1 0 1 1 1 1 1 1 0 0 1 1 0 1 0 1 1 1 0 0 0 0 0 0 1 1 1 0 0 0 1 0 1 1 0\n",
            " 0 1 1 0 0 0 1 1 1 0 1 0 0 0 1 1 0 0 0 1 0 0 0 1 0 0 1 0 0 0 1 1 0 0 1 1 1\n",
            " 0 0 0 0 0 0 1 0 0 0 1 1 0 0 0 1 0 1 0 1 1 0 0 0 0 1 1 0 0 0 1 0 0 0 1 1 0\n",
            " 1 0 0 0 0 1 1 1 1 0 0 1 1 1 0 0 0 1 1 1 1 0 0 0 0 1 1 1 0 0 1 0 1 1 1 1 0\n",
            " 0 0 1 0 1 1 0 0 1 0 0 0 1 0 1 1 0 0 0 1 1 0 0 0 0 0 1 1 1 0 0 0 0 1 1 1 0\n",
            " 0 0 1 0 1 0 0 0 0 1 0 1 0 0 0 0 0 1 1 0 0 1 0 1 1 1 1 1 1 1 0 0 0 0 1 1 1\n",
            " 0 0 0 1 0 1 0 0 0 1 1 1 1 1 1 1 0 1 0 1 0 0 0 0 0 1 0 1 1 0 0 0 0 0 1 0 1\n",
            " 1 0 0 0 1 1 1 0 0 1 1 0 0 0 1 1 0 1 1 1 1 0 0 1 1 0 0 0 0 0 0 1 0 0 0 1 1\n",
            " 0 1 0 0 0 1 1 1 0 0 1 0 1 1 1 0 1 0 0 1 0 0 0 1 0 0 1 0 1 0 1 1 0 1 0 0 1\n",
            " 0 1 1 0 0 0 0 0 1 1 0 0 1 1 0 1 0 1 0 1 0 1 1 0 1 0 1 1 1 0 0 0 0 0 1 0 1\n",
            " 0 0 0 1 1 1 1 1 0 1 1 0 0 0 1 1 1 1 1 1 0 1 1 1 1 0 0 0 0 0 0 0 1 0 0 1 1\n",
            " 1 0 1 0 0 1 1 0 1 0 0 0 0 0 0 1 0 1 0 1 1 1 0 0 1 0 0 0 0 0 0 0 1 1 0 0 0\n",
            " 0 0 1 0 1 0 1 0 0 1 1 1 0 0 0 0 0 1 0 1 1 0 0 0 0 0 1 1 1 0 1 0 1 1 0 0 1\n",
            " 0 1 0 0 1 1 0 1 0 1 1 1 1 0 0 1 0 1 1 0 1 0 1 1 0 0 0 1 0 1 1 0 1 0 0 0 0\n",
            " 0 1 0 1 0 0 0 0 0 0 1 0 1 1 0 0 0 0 0 0 1 1 0 0 1 0 0 1 0 0 1 1 0 1 1 0 0\n",
            " 0 0 0 0 1 1 0 1 1 0 0 0 0 1 0 0 1 0 1 1 0 1 1 1]\n"
          ],
          "name": "stdout"
        }
      ]
    },
    {
      "cell_type": "markdown",
      "metadata": {
        "id": "ZeFRJ2TZsfKV",
        "colab_type": "text"
      },
      "source": [
        "Feature Scalling"
      ]
    },
    {
      "cell_type": "code",
      "metadata": {
        "id": "tls-lbwXsaQc",
        "colab_type": "code",
        "colab": {
          "base_uri": "https://localhost:8080/",
          "height": 238
        },
        "outputId": "7ea2c1f5-7514-433c-8b21-f2fafcada7b2"
      },
      "source": [
        "from sklearn.preprocessing import MinMaxScaler\n",
        "Sc = MinMaxScaler(feature_range = (0,1))\n",
        "X = Sc.fit_transform(X)\n",
        "print(X)"
      ],
      "execution_count": 7,
      "outputs": [
        {
          "output_type": "stream",
          "text": [
            "[[8.42681467e-01 1.00000000e+00 1.25263158e-01 ... 5.00000000e-01\n",
            "  5.00000000e-02 1.21200000e-02]\n",
            " [6.96090562e-01 0.00000000e+00 1.34135338e-01 ... 5.00000000e-01\n",
            "  8.00000000e-02 0.00000000e+00]\n",
            " [3.88981656e-01 0.00000000e+00 2.38045113e-01 ... 5.00000000e-01\n",
            "  1.40000000e-01 0.00000000e+00]\n",
            " ...\n",
            " [4.39420332e-01 0.00000000e+00 7.63909774e-02 ... 5.00000000e-01\n",
            "  5.00000000e-02 0.00000000e+00]\n",
            " [8.44034934e-01 0.00000000e+00 2.05563910e-01 ... 5.00000000e-01\n",
            "  6.00000000e-02 1.10000000e-04]\n",
            " [1.06907888e-01 1.00000000e+00 4.09774436e-01 ... 0.00000000e+00\n",
            "  2.80000000e-01 0.00000000e+00]]\n"
          ],
          "name": "stdout"
        }
      ]
    },
    {
      "cell_type": "markdown",
      "metadata": {
        "id": "LIcaAx-CtAwu",
        "colab_type": "text"
      },
      "source": [
        "# Training SOM"
      ]
    },
    {
      "cell_type": "code",
      "metadata": {
        "id": "8mxLuc-Ps-0i",
        "colab_type": "code",
        "colab": {}
      },
      "source": [
        "from minisom import MiniSom\n",
        "som = MiniSom(x = 10, y = 10, input_len= 15, sigma=1.0, learning_rate=0.5)\n",
        "som.random_weights_init(X)\n",
        "som.train_random(X, num_iteration=100)"
      ],
      "execution_count": 0,
      "outputs": []
    },
    {
      "cell_type": "markdown",
      "metadata": {
        "id": "HmIe_Fe2ujm-",
        "colab_type": "text"
      },
      "source": [
        "# Visualizing Results"
      ]
    },
    {
      "cell_type": "code",
      "metadata": {
        "id": "HAsGCeTVumyN",
        "colab_type": "code",
        "colab": {
          "base_uri": "https://localhost:8080/",
          "height": 269
        },
        "outputId": "26103d2b-73f6-4cfe-bf4a-f5df5336680c"
      },
      "source": [
        "from pylab import bone, pcolor, colorbar, plot, show\n",
        "bone()\n",
        "pcolor(som.distance_map().T)\n",
        "colorbar()\n",
        "# red circles for customers who didnt get approval and green squares for the customer who got the approval\n",
        "markers = ['o', 's']\n",
        "colors = ['r', 'g']\n",
        "for i, x in enumerate(X):\n",
        "  w = som.winner(x)\n",
        "  plot(w[0]+0.5, w[1]+0.5,                # +0.5 as to get the circle or the square at the center of the grid\n",
        "       markers[y[i]],\n",
        "       markeredgecolor = colors[y[i]],\n",
        "       markerfacecolor = 'None',\n",
        "       markersize = 10,\n",
        "       markeredgewidth = 2)\n",
        "show()   "
      ],
      "execution_count": 18,
      "outputs": [
        {
          "output_type": "display_data",
          "data": {
            "image/png": "[encoded data removed]",
            "text/plain": [
              "<Figure size 432x288 with 2 Axes>"
            ]
          },
          "metadata": {
            "tags": [],
            "needs_background": "light"
          }
        }
      ]
    },
    {
      "cell_type": "markdown",
      "metadata": {
        "id": "RO_OoNZqyZtM",
        "colab_type": "text"
      },
      "source": [
        "# Finding the frauds"
      ]
    },
    {
      "cell_type": "code",
      "metadata": {
        "id": "6nBudo4GydgM",
        "colab_type": "code",
        "colab": {
          "base_uri": "https://localhost:8080/",
          "height": 1000
        },
        "outputId": "9c91df07-780f-4628-e00d-e0badaf514df"
      },
      "source": [
        "mappings = som.win_map(X)\n",
        "fraud = np.concatenate((mappings[(8,6)], mappings[(8,2)]), axis = 0)\n",
        "fraud = Sc.inverse_transform(fraud)\n",
        "print(fraud)"
      ],
      "execution_count": 31,
      "outputs": [
        {
          "output_type": "stream",
          "text": [
            "[[6.08659787e-02 1.00000000e+00 5.80150376e-01 4.91071429e-02\n",
            "  0.00000000e+00 5.38461538e-01 8.75000000e-01 3.31929825e-01\n",
            "  1.00000000e+00 0.00000000e+00 0.00000000e+00 1.00000000e+00\n",
            "  5.00000000e-01 1.00000000e-01 1.00000000e-03]\n",
            " [4.50472312e-01 1.00000000e+00 4.27368421e-01 1.80000000e-01\n",
            "  5.00000000e-01 7.69230769e-01 8.75000000e-01 4.47368421e-01\n",
            "  1.00000000e+00 0.00000000e+00 0.00000000e+00 1.00000000e+00\n",
            "  5.00000000e-01 4.60000000e-02 0.00000000e+00]\n",
            " [3.96033300e-01 1.00000000e+00 2.92030075e-01 3.71428571e-02\n",
            "  5.00000000e-01 8.46153846e-01 8.75000000e-01 2.28070175e-01\n",
            "  1.00000000e+00 0.00000000e+00 0.00000000e+00 1.00000000e+00\n",
            "  5.00000000e-01 8.20000000e-02 3.12850000e-01]\n",
            " [1.69271490e-01 1.00000000e+00 4.08571429e-01 8.03571429e-02\n",
            "  0.00000000e+00 1.00000000e+00 8.75000000e-01 3.50877193e-01\n",
            "  1.00000000e+00 0.00000000e+00 0.00000000e+00 1.00000000e+00\n",
            "  5.00000000e-01 8.80000000e-02 0.00000000e+00]\n",
            " [1.01682224e-01 1.00000000e+00 2.74436090e-01 6.25000000e-02\n",
            "  0.00000000e+00 6.92307692e-01 8.75000000e-01 1.40350877e-03\n",
            "  1.00000000e+00 0.00000000e+00 0.00000000e+00 1.00000000e+00\n",
            "  5.00000000e-01 1.96500000e-01 0.00000000e+00]\n",
            " [4.70325833e-01 1.00000000e+00 2.38045113e-01 1.60714286e-01\n",
            "  5.00000000e-01 6.15384615e-01 3.75000000e-01 2.63157895e-01\n",
            "  1.00000000e+00 1.00000000e+00 2.98507463e-02 1.00000000e+00\n",
            "  5.00000000e-01 1.65000000e-01 0.00000000e+00]\n",
            " [4.53163229e-01 1.00000000e+00 3.88421053e-01 4.96964286e-01\n",
            "  5.00000000e-01 6.15384615e-01 3.75000000e-01 3.02631579e-01\n",
            "  1.00000000e+00 1.00000000e+00 8.95522388e-02 1.00000000e+00\n",
            "  5.00000000e-01 3.50000000e-02 0.00000000e+00]\n",
            " [4.24680354e-01 1.00000000e+00 6.46616541e-01 4.37500000e-01\n",
            "  5.00000000e-01 4.61538462e-01 3.75000000e-01 4.38596491e-02\n",
            "  1.00000000e+00 1.00000000e+00 5.97014925e-02 1.00000000e+00\n",
            "  5.00000000e-01 1.00000000e-01 0.00000000e+00]\n",
            " [8.41055704e-01 1.00000000e+00 2.18045113e-01 1.80000000e-01\n",
            "  0.00000000e+00 5.38461538e-01 5.00000000e-01 5.26315789e-02\n",
            "  1.00000000e+00 1.00000000e+00 1.19402985e-01 1.00000000e+00\n",
            "  5.00000000e-01 7.20000000e-02 7.00000000e-05]\n",
            " [7.99038157e-01 1.00000000e+00 1.35338346e-01 3.92857143e-01\n",
            "  5.00000000e-01 7.69230769e-01 3.75000000e-01 8.77192982e-02\n",
            "  1.00000000e+00 1.00000000e+00 1.04477612e-01 1.00000000e+00\n",
            "  5.00000000e-01 5.00000000e-02 8.09000000e-03]\n",
            " [7.94909682e-01 1.00000000e+00 1.80451128e-01 1.78571429e-02\n",
            "  5.00000000e-01 5.38461538e-01 3.75000000e-01 5.12280702e-02\n",
            "  1.00000000e+00 1.00000000e+00 7.46268657e-02 1.00000000e+00\n",
            "  5.00000000e-01 1.56000000e-01 0.00000000e+00]\n",
            " [8.38993469e-01 1.00000000e+00 4.41052632e-01 1.33928571e-02\n",
            "  0.00000000e+00 5.38461538e-01 3.75000000e-01 1.31578947e-02\n",
            "  1.00000000e+00 1.00000000e+00 1.19402985e-01 1.00000000e+00\n",
            "  5.00000000e-01 1.50000000e-01 1.62000000e-03]\n",
            " [8.58426534e-01 1.00000000e+00 3.12030075e-01 1.44285714e-01\n",
            "  0.00000000e+00 1.53846154e-01 5.00000000e-01 2.98245614e-01\n",
            "  1.00000000e+00 1.00000000e+00 1.04477612e-01 1.00000000e+00\n",
            "  5.00000000e-01 9.75000000e-02 0.00000000e+00]\n",
            " [8.35097245e-01 1.00000000e+00 2.33082707e-01 5.28214286e-01\n",
            "  5.00000000e-01 3.84615385e-01 3.75000000e-01 1.76842105e-01\n",
            "  1.00000000e+00 1.00000000e+00 7.46268657e-02 1.00000000e+00\n",
            "  5.00000000e-01 8.40000000e-02 0.00000000e+00]\n",
            " [2.93418065e-01 1.00000000e+00 1.69172932e-01 4.28571429e-01\n",
            "  5.00000000e-01 2.30769231e-01 3.75000000e-01 7.89473684e-02\n",
            "  1.00000000e+00 1.00000000e+00 2.98507463e-02 1.00000000e+00\n",
            "  5.00000000e-01 6.00000000e-02 5.00000000e-05]\n",
            " [7.41631929e-01 1.00000000e+00 5.37593985e-01 2.70892857e-01\n",
            "  5.00000000e-01 1.53846154e-01 5.00000000e-01 2.66140351e-01\n",
            "  1.00000000e+00 1.00000000e+00 2.23880597e-01 1.00000000e+00\n",
            "  5.00000000e-01 0.00000000e+00 5.00000000e-02]\n",
            " [6.49888479e-01 1.00000000e+00 6.96691729e-01 5.17857143e-01\n",
            "  5.00000000e-01 0.00000000e+00 0.00000000e+00 6.31578947e-01\n",
            "  1.00000000e+00 1.00000000e+00 2.23880597e-01 1.00000000e+00\n",
            "  5.00000000e-01 0.00000000e+00 1.00000000e-02]\n",
            " [7.86176215e-01 1.00000000e+00 1.09022556e-01 1.71071429e-01\n",
            "  0.00000000e+00 6.15384615e-01 3.75000000e-01 7.89473684e-02\n",
            "  1.00000000e+00 1.00000000e+00 1.49253731e-02 1.00000000e+00\n",
            "  5.00000000e-01 4.00000000e-02 3.00000000e-03]\n",
            " [4.94752312e-01 1.00000000e+00 6.13984962e-01 3.36250000e-01\n",
            "  5.00000000e-01 0.00000000e+00 0.00000000e+00 5.05789474e-01\n",
            "  1.00000000e+00 1.00000000e+00 1.64179104e-01 1.00000000e+00\n",
            "  5.00000000e-01 1.50000000e-02 3.00000000e-03]\n",
            " [7.39849997e-01 1.00000000e+00 3.44661654e-01 1.57678571e-01\n",
            "  0.00000000e+00 2.30769231e-01 3.75000000e-01 8.77192982e-03\n",
            "  1.00000000e+00 1.00000000e+00 1.49253731e-01 1.00000000e+00\n",
            "  5.00000000e-01 1.60000000e-01 0.00000000e+00]\n",
            " [7.82179883e-01 1.00000000e+00 2.11729323e-01 5.50000000e-02\n",
            "  5.00000000e-01 6.15384615e-01 3.75000000e-01 1.31578947e-01\n",
            "  1.00000000e+00 1.00000000e+00 7.46268657e-02 1.00000000e+00\n",
            "  5.00000000e-01 5.00000000e-02 3.00000000e-05]\n",
            " [6.06060970e-01 1.00000000e+00 9.65413534e-02 3.30357143e-01\n",
            "  5.00000000e-01 5.38461538e-01 3.75000000e-01 5.84210526e-02\n",
            "  1.00000000e+00 1.00000000e+00 4.47761194e-02 1.00000000e+00\n",
            "  5.00000000e-01 2.00000000e-02 2.80000000e-04]\n",
            " [7.15611723e-01 1.00000000e+00 6.62857143e-01 2.51428571e-01\n",
            "  5.00000000e-01 4.61538462e-01 3.75000000e-01 4.91228070e-01\n",
            "  1.00000000e+00 1.00000000e+00 8.95522388e-02 1.00000000e+00\n",
            "  5.00000000e-01 1.80000000e-01 1.33200000e-02]\n",
            " [8.94169279e-01 1.00000000e+00 2.07969925e-01 7.28571429e-02\n",
            "  0.00000000e+00 3.84615385e-01 3.75000000e-01 7.01754386e-02\n",
            "  1.00000000e+00 1.00000000e+00 4.47761194e-02 1.00000000e+00\n",
            "  5.00000000e-01 1.85000000e-01 5.60000000e-03]\n",
            " [8.80918916e-01 1.00000000e+00 6.87969925e-01 9.82142857e-02\n",
            "  5.00000000e-01 6.15384615e-01 3.75000000e-01 6.14035088e-02\n",
            "  1.00000000e+00 1.00000000e+00 7.46268657e-02 1.00000000e+00\n",
            "  5.00000000e-01 3.00000000e-02 5.80000000e-04]\n",
            " [5.63330650e-01 1.00000000e+00 6.44060150e-01 6.60714286e-01\n",
            "  5.00000000e-01 7.69230769e-02 5.00000000e-01 5.26315789e-01\n",
            "  1.00000000e+00 1.00000000e+00 2.53731343e-01 1.00000000e+00\n",
            "  5.00000000e-01 0.00000000e+00 0.00000000e+00]]\n"
          ],
          "name": "stdout"
        }
      ]
    }
  ]
}